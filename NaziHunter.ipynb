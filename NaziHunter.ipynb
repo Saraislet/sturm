{
 "cells": [
  {
   "cell_type": "markdown",
   "metadata": {},
   "source": [
    "# NaziHunter\n",
    "This notebook will use a bag of words approach to help build a dataset of Nazi profiles and tweets.\n",
    "\n",
    "Do not run all cells at once! Some of the test cells near the end can take 5-30 minutes to run, and save large files to your filesystem."
   ]
  },
  {
   "cell_type": "code",
   "execution_count": 8,
   "metadata": {
    "collapsed": true
   },
   "outputs": [],
   "source": [
    "import json, csv\n",
    "import re, os, sys, datetime, time\n",
    "import tweepy\n",
    "import sqlite3\n",
    "import tokens # local file for storing tokens\n",
    "\n",
    "# Set the private Twitter API keys.\n",
    "consumer_key = tokens.consumer_key\n",
    "consumer_secret = tokens.consumer_secret\n",
    "access_token = tokens.access_token\n",
    "access_token_secret = tokens.access_token_secret\n",
    "\n",
    "# Pass tokens to Tweepy's OAuthHandler.\n",
    "auth = tweepy.OAuthHandler(consumer_key, consumer_secret)\n",
    "auth.set_access_token(access_token, access_token_secret)\n",
    "api = tweepy.API(auth)"
   ]
  },
  {
   "cell_type": "code",
   "execution_count": 9,
   "metadata": {
    "collapsed": false
   },
   "outputs": [
    {
     "name": "stdout",
     "output_type": "stream",
     "text": [
      "Bag of words contains 36 words.\n"
     ]
    }
   ],
   "source": [
    "# Define the bag of words:\n",
    "words = [\"kekistan\",\n",
    "        \"#kek\",\n",
    "        \"14words\",\n",
    "        \"14 words\",\n",
    "        \"14 wrds\",\n",
    "        \"fourteen words\",\n",
    "        \"future for white children\",\n",
    "        \"evropa\",\n",
    "        \"ethnostate\",\n",
    "        \"/ourguys/\",\n",
    "        \"goyim\",\n",
    "        \"groyper\",\n",
    "        \"cuck\",\n",
    "        \"red pilled\",\n",
    "        \"redpilled\",\n",
    "        \"whitegenocide\",\n",
    "        \"white genocide\",\n",
    "        \"white pride\",\n",
    "        \"whiteisright\",\n",
    "        \"defending white\",\n",
    "        \"prowhite\",\n",
    "        \"pro white\",\n",
    "        \"aryanState\",\n",
    "        \"nationalsocialist\",\n",
    "        \"national socialist\",\n",
    "        \"national socialism\",\n",
    "        \"nazionalsocialista\",\n",
    "        \"nazional socialista\",\n",
    "        \"white nationalist\",\n",
    "        \"white supremacist\",\n",
    "        \"identitarian\",\n",
    "        \"卐\",\n",
    "        \"⚡⚡\",\n",
    "        \"ϟϟ\",\n",
    "        \"✠\",\n",
    "        \"⊕\"]\n",
    "print(\"Bag of words contains \" + str(len(words)) + \" words.\")\n",
    "\n",
    "def bag_of_words(words):\n",
    "    return dict([(word, True) for word in words])\n",
    "\n",
    "bag = bag_of_words(words)\n",
    "\n",
    "def test_1488(string):\n",
    "    # Match 14 and 88 only if no digit precedes nor follows.\n",
    "    # 14 and 88 may be separated by a single non-digit.\n",
    "    # e.g., matches: 1488, 14/88, 14.88, asdf1488jkl, 13-14-88a, a14 88b.\n",
    "    # e.g., non-matches: 14288, 14--88, 5551488555, 714/88.\n",
    "    if re.match(r\".*(?<!\\d)14[\\D]?88(?!\\d)\", string):\n",
    "        return 1\n",
    "    else:\n",
    "        return 0"
   ]
  },
  {
   "cell_type": "code",
   "execution_count": 63,
   "metadata": {
    "collapsed": false
   },
   "outputs": [
    {
     "ename": "SyntaxError",
     "evalue": "invalid syntax (<ipython-input-63-f79ce46517ff>, line 22)",
     "output_type": "error",
     "traceback": [
      "\u001b[1;36m  File \u001b[1;32m\"<ipython-input-63-f79ce46517ff>\"\u001b[1;36m, line \u001b[1;32m22\u001b[0m\n\u001b[1;33m    return False\u001b[0m\n\u001b[1;37m         ^\u001b[0m\n\u001b[1;31mSyntaxError\u001b[0m\u001b[1;31m:\u001b[0m invalid syntax\n"
     ]
    }
   ],
   "source": [
    "def init(words):\n",
    "    # set up a list of regex patterns\n",
    "    # TODO: This would be more efficient as a trie.\n",
    "    # Optimization may be unnecessary.\n",
    "    re_patterns = []\n",
    "    \n",
    "    for word in words:\n",
    "        re_patterns.append(r\".*\" + word)\n",
    "    return re_patterns\n",
    "\n",
    "re_patterns = init(words)\n",
    "\n",
    "def check_protected(user):\n",
    "    # Test if user is protected:\n",
    "    try:\n",
    "        userdata = api.get_user(user)\n",
    "        if userdata.protected:\n",
    "            print(\"Account is protected: \" + str(user) + \"/@\" + str(userdata.screen_name + \"   \"))\n",
    "            return True\n",
    "        else:\n",
    "            print(\"Account is not protected: \" + str(user) + \"/@\" + str(userdata.screen_name + \"   \")\n",
    "            return False\n",
    "    except BaseException as e:\n",
    "        print(\"Error in check_protected() exception clause (id:\" + str(user) + \"):\", e)\n",
    "\n",
    "def print_result_count(result):\n",
    "    if result == 0:\n",
    "        print(\"No match.\")\n",
    "    elif result == 1:\n",
    "        print(\"There is 1 match.\")\n",
    "    else:\n",
    "        print(\"There are \" + str(result) + \" matches.\")\n",
    "\n",
    "def test_count(string, re_patterns):\n",
    "    string = str.lower(string)\n",
    "    result = 0\n",
    "    for pattern in re_patterns:\n",
    "        if re.match(pattern, string):\n",
    "            result += 1\n",
    "    return result\n",
    "\n",
    "def print_count(string, re_patterns):\n",
    "    return print_result_count(test_count(string))\n",
    "    \n",
    "def test_followers(user, re_patterns = re_patterns, num_results = 50):\n",
    "    try:\n",
    "        # Evaluate a list of followers for Nazis. Return an array of scores.\n",
    "        userlist = api.followers_ids(user)\n",
    "\n",
    "        # Don't try to test more results than there are users in the list.\n",
    "        num_results = min(num_results, len(userlist))\n",
    "\n",
    "        results = test_list(userlist, re_patterns, num_results)\n",
    "\n",
    "        # Add the results to the database.\n",
    "        update_baddie(api.get_user(user), results)\n",
    "        return results\n",
    "    except BaseException as e:\n",
    "        print(\"Error in test_followers(): \", e)\n",
    "        \n",
    "        try:\n",
    "            # Test if user is protected:\n",
    "            if api.get_user(user).protected:\n",
    "                print(\"Account is protected.\")\n",
    "            else:\n",
    "                print(\"Account is not protected.\")\n",
    "        except BaseException as e:\n",
    "            print(\"Error in test_followers() exception clause: \", e)\n",
    "        \n",
    "        return\n",
    "\n",
    "def test_follows(user, re_patterns = re_patterns, num_results = 50):\n",
    "    # Evaluate a list of friends for Nazis. Return an array of scores.\n",
    "    return test_list(api.friends_ids(user), re_patterns, num_results)\n",
    "    \n",
    "def test_list(userlist, re_patterns = re_patterns, num_results = 50):\n",
    "    # Evaluate a list of users for Nazis. Return an array of scores.\n",
    "    scores = []\n",
    "    baddies = []\n",
    "    baddies_scores = {}\n",
    "    start = 0\n",
    "    start_time = datetime.datetime.now()\n",
    "    \n",
    "    if num_results == -1:\n",
    "        num_results = len(userlist)\n",
    "    \n",
    "    try:\n",
    "        i = 0\n",
    "        data = []\n",
    "        print(\" \")\n",
    "        while i < len(userlist) and i < num_results:\n",
    "            print(\"Loaded \" + str(i) + \" of \" + str(len(userlist)), end=\"\\r\")\n",
    "            data.extend(api.lookup_users(user_ids = userlist[i:min(num_results, i+100)]))\n",
    "            i = i + 100\n",
    "        #data = api.lookup_users(user_ids = userlist)\n",
    "    except BaseException as e:\n",
    "        print(\"Error in test_list(): \", e)\n",
    "        return\n",
    "    \n",
    "    time_twitter_api_complete = datetime.datetime.now()\n",
    "    time_delta = (time_twitter_api_complete - start_time).total_seconds()\n",
    "    time_delta = round(time_delta, 3)\n",
    "    print(str(num_results) + \" users loaded in \" + str(time_delta) + \" seconds.\")\n",
    "\n",
    "    count = 0\n",
    "    for userdata in data:\n",
    "        #test user\n",
    "        score = test_count(userdata.description, re_patterns)\n",
    "        score += test_count(userdata.screen_name, re_patterns)\n",
    "        score += test_count(userdata.name, re_patterns)\n",
    "        score += test_1488(userdata.description)\n",
    "        score += test_1488(userdata.screen_name)\n",
    "        score += test_1488(userdata.name)\n",
    "        \n",
    "        # Add this score to the array of scores.\n",
    "        scores.append(score)\n",
    "\n",
    "        # Add detected Nazis to the list of baddies.\n",
    "        if score != 0:\n",
    "            baddies.append(userdata)\n",
    "            baddies_scores[userdata.id] = score\n",
    "\n",
    "        # Report scanning progress in console.\n",
    "        if count % 10 == 0:\n",
    "            #clear_output()\n",
    "            ratio = round((count-start)/num_results*100, 1)            \n",
    "            print(str(ratio) + \"% complete\", end=\"\\r\")\n",
    "        count = count + 1\n",
    "\n",
    "    #clear_output()\n",
    "    \n",
    "    results = Results(scores, baddies)\n",
    "    results.print_results()\n",
    "    \n",
    "    #Print time delta for testing followers.\n",
    "    end_testing_time = datetime.datetime.now()\n",
    "    time_delta = (end_testing_time - time_twitter_api_complete).total_seconds()\n",
    "    time_delta = round(time_delta, 3)\n",
    "    print(str(num_results) + \" users tested in \" + str(time_delta) + \" seconds.\")\n",
    "    \n",
    "    # add baddies to database\n",
    "    add_baddies_to_db(baddies, baddies_scores)\n",
    "    \n",
    "    #Print time delta for adding results to db.\n",
    "    end_time = datetime.datetime.now()\n",
    "    time_delta = (end_time - end_testing_time).total_seconds()\n",
    "    time_delta = round(time_delta, 3)\n",
    "    print(str(len(baddies)) + \" baddies updated/added to db in \" + str(time_delta) + \" seconds.\")\n",
    "\n",
    "    #Print time delta for completing all operations.\n",
    "    time_delta = (end_time - start_time).total_seconds()\n",
    "    time_delta = round(time_delta, 3)\n",
    "    print(\"Scanned \" + str(num_results) + \" followers in \" + str(time_delta) + \" seconds.\")\n",
    "    \n",
    "    return(results)"
   ]
  },
  {
   "cell_type": "code",
   "execution_count": 53,
   "metadata": {
    "collapsed": false
   },
   "outputs": [],
   "source": [
    "def add_baddies_to_db(baddies, baddies_scores):\n",
    "    # Add or update the baddie in the db:\n",
    "    # Opens the db\n",
    "    db = sqlite3.connect('data/baddies.db')\n",
    "\n",
    "    # Get a cursor object\n",
    "    cursor = db.cursor()\n",
    "\n",
    "    for baddie in baddies:\n",
    "        add_to_baddies(baddie, baddies_scores[baddie.id], db, cursor)\n",
    "        \n",
    "    db.commit()\n",
    "    db.close()\n",
    "    \n",
    "def add_to_baddies(userdata,score, db, cursor):\n",
    "    # adds baddie details to db\n",
    "    cursor.execute('''\n",
    "        SELECT sturm_score FROM baddies WHERE twitter_id = ?\n",
    "    ''', (userdata.id,))\n",
    "    result = cursor.fetchone()\n",
    "    \n",
    "    if result is None:\n",
    "        # insert new row\n",
    "        cursor.execute('''\n",
    "        INSERT INTO baddies (twitter_id, screen_name, name, sturm_score) VALUES (?,?,?,?)\n",
    "    ''', (userdata.id,userdata.screen_name, userdata.name, score))\n",
    "    else:\n",
    "        # update score\n",
    "        sturm_score = max(score, result[0])\n",
    "        cursor.execute('''\n",
    "        UPDATE baddies SET sturm_score = ? WHERE twitter_id = ?\n",
    "    ''', (score, userdata.id))\n",
    "\n",
    "def update_baddie(userdata, results):\n",
    "    # Update ratio in the database.\n",
    "    # adds baddie details to db\n",
    "    db = sqlite3.connect('data/baddies.db')\n",
    "\n",
    "    # Get a cursor object\n",
    "    cursor = db.cursor()\n",
    "\n",
    "    cursor.execute('''\n",
    "        SELECT twitter_id FROM baddies WHERE twitter_id = ?\n",
    "    ''', (userdata.id,))\n",
    "    result = cursor.fetchone()\n",
    "    \n",
    "    if result is None:\n",
    "        # insert new row?\n",
    "        # no---this may not be a baddie that's being tested.\n",
    "#        cursor.execute('''\n",
    "#        INSERT INTO baddies (twitter_id, screen_name, name, baddie_ratio) VALUES (?,?,?,?)\n",
    "#    ''', (userdata.id,userdata.screen_name, userdata.name, results.ratio))\n",
    "        print(\"User is not in database. Not updating.\")\n",
    "    else:\n",
    "        # update ratio\n",
    "        cursor.execute('''\n",
    "        UPDATE baddies SET baddie_ratio = ? WHERE twitter_id = ?\n",
    "    ''', (results.ratio, userdata.id))\n",
    "        db.commit()\n",
    "        \n",
    "    db.close()\n",
    "    \n",
    "def get_baddies_from_db():\n",
    "    # Add or update the baddie in the db:\n",
    "    # Opens the db\n",
    "    db = sqlite3.connect('data/baddies.db')\n",
    "\n",
    "    # Get a cursor object\n",
    "    cursor = db.cursor()\n",
    "\n",
    "    cursor.execute('''\n",
    "        SELECT twitter_id FROM baddies\n",
    "    ''')\n",
    "    result = cursor.fetchall()\n",
    "    \n",
    "    db.close()\n",
    "    \n",
    "    return result\n",
    "\n",
    "    \n",
    "def get_unprotected_baddies_from_db():\n",
    "    # Add or update the baddie in the db:\n",
    "    # Opens the db\n",
    "    db = sqlite3.connect('data/baddies.db')\n",
    "\n",
    "    # Get a cursor object\n",
    "    cursor = db.cursor()\n",
    "\n",
    "    cursor.execute('''\n",
    "        SELECT twitter_id FROM baddies WHERE protected IS 0\n",
    "    ''')\n",
    "    result = cursor.fetchall()\n",
    "    \n",
    "    db.close()\n",
    "    \n",
    "    return result\n",
    "\n",
    "def print_results(scores):\n",
    "    x = [str(x) for x in range(0,5)]\n",
    "    x.append(\"5+\")\n",
    "    y = []\n",
    "    sum = 0\n",
    "    for i in range(0,5):\n",
    "        count = scores.count(i)\n",
    "        y.append(count)\n",
    "        sum += count\n",
    "    y.append(len(scores) - sum)\n",
    "    print(str(x))\n",
    "    print(str(y))\n",
    "    total = len(scores) - y[0]\n",
    "    ratio = round(total/len(scores)*100, 1)\n",
    "    print(str(ratio) + \"% identified as Nazis (\" + str(total) + \" of \" + str(len(scores)) + \" tested)\")\n",
    "\n",
    "def print_baddies_details(baddies):\n",
    "    # Print a list containing names, screen_names, and profile descriptions.\n",
    "    countIter = iter([x for x in range(0,len(baddies))])\n",
    "    \n",
    "    for user in baddies:\n",
    "        print(str(next(countIter)) + \": \" + user.name + \" / @\" + user.screen_name \n",
    "             + \" / https://www.twitter.com/\" + user.screen_name)\n",
    "        print(user.description)\n",
    "\n",
    "def get_baddies_names(baddies):\n",
    "    # Return an array of screen_names from baddies.\n",
    "    return [user.screen_name for user in baddies]\n",
    "\n",
    "def print_baddies(baddies):\n",
    "    # Takes a list of userdata and returns a list of names.\n",
    "    for baddie in baddies:\n",
    "        print(baddie.name)\n",
    "        \n",
    "def get_baddies(baddies):\n",
    "    # Takes a list of userdata and returns a list of IDs.\n",
    "    ids = set()\n",
    "    \n",
    "    for baddie in baddies:\n",
    "        ids.add(baddie.id)\n",
    "    \n",
    "    return ids\n",
    "\n",
    "def check_rate():\n",
    "    # Check rate limit status, return dict.\n",
    "    return api.rate_limit_status()['resources']\n",
    "\n",
    "def check_rate_users():\n",
    "    # Check rate limit status for get user, return int.\n",
    "    return api.rate_limit_status()['resources']['users']['/users/show/:id']['remaining']\n",
    "\n",
    "def check_rate_lookup():\n",
    "    # Check rate limit status for batch user lookups, return int.\n",
    "    return api.rate_limit_status()['resources']['users']['/users/lookup']['remaining']\n",
    "\n",
    "def check_rate_followers_ids():\n",
    "    # Check rate limit status for follower ids lookups, return int.\n",
    "    return api.rate_limit_status()['resources']['followers']['/followers/ids']['remaining']\n",
    "\n",
    "def check_api_rates():\n",
    "    # Returns rate limits for lookups, users, and timeline requests.\n",
    "    print(str(check_rate_lookup()))\n",
    "    print(str(check_rate_users()))\n",
    "    print(str(check_rate()['statuses']['/statuses/user_timeline']['remaining']))\n",
    "\n",
    "class Results(object):\n",
    "    \"\"\"\n",
    "    Results contain attributes and basic methods:\n",
    "        \n",
    "    Attributes:\n",
    "        num_results: integer number of results requested\n",
    "        scores: integer array of scores returned from assessment\n",
    "        num_baddies: integer number of non-zero scores\n",
    "        ratio: ratio of results that are baddies\n",
    "        baddies_names: string array of screen_names for baddies\n",
    "        baddies: list of user data objects for baddies\n",
    "    \"\"\"\n",
    "    \n",
    "    def __init__(self, scores, baddies):\n",
    "        # Return a Results object with scores array and baddies list.\n",
    "        self.scores = scores\n",
    "        self.baddies = baddies\n",
    "        self.baddies_names = get_baddies_names(baddies)\n",
    "        self.num_results = len(scores)\n",
    "        self.num_baddies = len(baddies)\n",
    "        self.ratio = round(len(baddies)/len(scores)*100, 1)\n",
    "        \n",
    "    def print_results(self):\n",
    "        # Print results nicely to console.\n",
    "        print_results(self.scores)"
   ]
  },
  {
   "cell_type": "code",
   "execution_count": 141,
   "metadata": {
    "collapsed": true
   },
   "outputs": [],
   "source": [
    "#OLD-ISH?\n",
    "def test_user_count(username):\n",
    "    try:\n",
    "        userdata = api.get_user(username)\n",
    "        score = test_userdata(userdata)\n",
    "    except Exception:\n",
    "        score = -1\n",
    "    \n",
    "    return score\n",
    "\n",
    "def test_userdata(userdata):\n",
    "    score = test_count(userdata.description, re_patterns)\n",
    "    score += test_count(userdata.screen_name, re_patterns)\n",
    "    score += test_count(userdata.name, re_patterns)\n",
    "    score += test_1488(userdata.description)\n",
    "    score += test_1488(userdata.screen_name)\n",
    "    score += test_1488(userdata.name)\n",
    "    return score\n",
    "\n",
    "def test_user(username):\n",
    "    return print(\"@\" + username + \"\\'s score is \" + str(test_user_count(username)))"
   ]
  },
  {
   "cell_type": "code",
   "execution_count": 192,
   "metadata": {
    "collapsed": true
   },
   "outputs": [],
   "source": [
    "#OLD-ish?\n",
    "from IPython.display import clear_output\n",
    "\n",
    "def print_follower_results(user, count = 50):\n",
    "    follower_ids = api.followers_ids(user)\n",
    "\n",
    "    results = []\n",
    "    baddies = []\n",
    "    num_results = count\n",
    "    start = 0\n",
    "\n",
    "    for i in range(start,start+num_results):\n",
    "        try:\n",
    "            userdata = api.get_user(follower_ids[i])\n",
    "        except Exception:\n",
    "            continue\n",
    "\n",
    "    #    print_result_count(test_count(str(userdata)))\n",
    "        result = test_userdata(userdata)\n",
    "        results.append(result)\n",
    "\n",
    "        if result != 0:\n",
    "            baddies.append(userdata)\n",
    "            \n",
    "            #update database\n",
    "            add_to_baddies(userdata, score)\n",
    "\n",
    "        if i % 10 == 0:\n",
    "            clear_output()\n",
    "            ratio = round((i-start)/num_results*100, 1)\n",
    "            print(str(ratio) + \"% complete\")\n",
    "    clear_output()\n",
    "    print(str(results))\n",
    "\n",
    "    #l = results\n",
    "    #dict((x,l.count(x)) for x in set(l))\n",
    "\n",
    "    x = [str(x) for x in range(0,5)]\n",
    "    x.append(\"5+\")\n",
    "    y = []\n",
    "    sum = 0\n",
    "    for i in range(0,5):\n",
    "        count = results.count(i)\n",
    "        y.append(count)\n",
    "        sum += count\n",
    "    y.append(len(results) - sum)\n",
    "    print(str(x))\n",
    "    print(str(y))\n",
    "    total = len(results) - y[0]\n",
    "    ratio = round(total/len(results)*100, 1)\n",
    "    print(str(ratio) + \"% identified as Nazis (\" + str(total) + \" of \" + str(len(results)) + \" tested)\")"
   ]
  },
  {
   "cell_type": "code",
   "execution_count": 156,
   "metadata": {
    "collapsed": false
   },
   "outputs": [],
   "source": [
    "#OLD\n",
    "def print_result(result):\n",
    "    if result:\n",
    "        print(\"Match found\")\n",
    "    else:\n",
    "        print(\"No match\")\n",
    "        \n",
    "def print_result_count(result):\n",
    "    if result == 0:\n",
    "        print(\"No match.\")\n",
    "    elif result == 1:\n",
    "        print(\"There is 1 match.\")\n",
    "    else:\n",
    "        print(\"There are \" + str(result) + \" matches.\")\n",
    "\n",
    "def boolean_test(result):\n",
    "    if result:\n",
    "        return True\n",
    "    else:\n",
    "        return False"
   ]
  },
  {
   "cell_type": "markdown",
   "metadata": {},
   "source": [
    "# Config and testing:"
   ]
  },
  {
   "cell_type": "code",
   "execution_count": 13,
   "metadata": {
    "collapsed": false
   },
   "outputs": [],
   "source": [
    "num_results = 10\n",
    "\n",
    "#Test accounts:\n",
    "test_baddies = [\"ns148818\",\n",
    "                \"SaxonResistance\",\n",
    "                \"j_rashcoven\",\n",
    "                \"ABel14_88\"]\n",
    "\n",
    "test_good = [\"saraislet\",\n",
    "             \"EricaJoy\",\n",
    "             \"yonatanzunger\"]"
   ]
  },
  {
   "cell_type": "code",
   "execution_count": 33,
   "metadata": {
    "collapsed": false
   },
   "outputs": [
    {
     "name": "stdout",
     "output_type": "stream",
     "text": [
      "There are 2 matches.\n"
     ]
    }
   ],
   "source": [
    "timeline = api.user_timeline(\"ABel14_88\")\n",
    "print_result_count(test_count(str(timeline), re_patterns))"
   ]
  },
  {
   "cell_type": "code",
   "execution_count": 190,
   "metadata": {
    "collapsed": false,
    "scrolled": true
   },
   "outputs": [
    {
     "name": "stdout",
     "output_type": "stream",
     "text": [
      "[0, 1, 0, 0, 0, 0, 0, 0, 2, 1, 0, 0, 0, 2, 0, 0, 0, 0, 2, 2, 0, 0, 1, 2, 0, 0, 0, 0, 0, 1, 1, 0, 0, 0, 0, 0, 0, 0, 0, 0, 0, 0, 1, 0, 1, 0, 0, 0, 0, 0, 2, 0, 0, 0, 0, 0, 3, 1, 0, 0, 1, 2, 0, 0, 0, 0, 0, 0, 0, 0, 0, 2, 0, 0, 0, 0, 0, 1, 0, 0, 0, 0, 0, 1, 0, 0, 0, 0, 1, 0, 2, 0, 1, 0, 2, 0, 0, 0, 0, 0, 0, 2, 0, 0, 1, 0, 0, 0, 0, 1, 0, 1, 0, 0, 0, 1, 0, 0, 0, 1, 0, 0, 0, 0, 0, 1, 0, 1, 0, 0, 0, 0, 3, 0, 1, 0, 1, 0, 3, 0, 0, 3, 0, 0, 0, 1, 0, 0, 0, 0, 0, 1, 0, 0, 0, 0, 0, 1, 0, 2, 3, 0, 2, 0, 0, 0, 0, 2, 0, 0, 1, 0, 0, 0, 0, 0, 0, 0, 0, 0, 1, 0, 0, 0, 0, 1, 0, 0, 0, 0, 0, 0, 0, 1, 0, 0, 1, 0, 0, 0, 0, 3, 1, 0, 0, 0, 0, 0, 0, 0, 0, 0, 0, 0, 2, 0, 0, 0, 0, 0, 0, 0, 0, 0, 0, 0, 0, 0, 0, 1, 1, 1, 0, 0, 0, 0, 0, 0, 0, 0, 0, 1, 1, 3, 0, 0, 0, 0, 0, 0, 0, 0, 1, 0, 1, 0, 0, 3, 0, 0, 1, 0, 0, 2, 0, 0, 1, 0, 0, 0, 0, 0, 1, 0, 0, 0, 0, 4, 0, 0, 0, 0, 0, 0, 0, 0, 0, 0, 1, 0, 0, 0, 0, 0, 0, 0, 0, 3, 0, 0, 0, 0, 0, 1, 0, 0, 0, 0, 0, 0, 0, 0, 0, 0, 0, 1, 0, 0, 2, 3, 0, 0, 4, 0, 0, 0, 1, 0, 0, 0, 1, 1, 1, 0, 0, 1, 0, 0, 5, 0, 1, 0, 1, 0, 0, 0, 0, 0, 0, 0, 0, 0, 0, 1, 0, 0, 0, 0, 0, 1, 0]\n",
      "['0', '1', '2', '3', '4', '5+']\n",
      "[278, 53, 17, 10, 2, 1]\n",
      "23.0% identified as Nazis (83 of 361 tested)\n"
     ]
    }
   ],
   "source": [
    "print_follower_results(\"ABel14_88\",361)"
   ]
  },
  {
   "cell_type": "code",
   "execution_count": 40,
   "metadata": {
    "collapsed": false
   },
   "outputs": [
    {
     "name": "stdout",
     "output_type": "stream",
     "text": [
      "ABel14_88\n",
      "909306189317423104\n"
     ]
    },
    {
     "data": {
      "text/plain": [
       "\"#whiteprivilege and #WhiteSupremacist has just got started! You've seen #nothing yet. #we #are #the #ones #not #to #fuck #with\""
      ]
     },
     "execution_count": 40,
     "metadata": {},
     "output_type": "execute_result"
    }
   ],
   "source": [
    "status = api.get_status(912018899507351552, tweet_mode='extended')\n",
    "print(str(status.user.screen_name))\n",
    "print(str(status.user.id))\n",
    "status.full_text"
   ]
  },
  {
   "cell_type": "code",
   "execution_count": 13,
   "metadata": {
    "collapsed": false,
    "scrolled": true
   },
   "outputs": [],
   "source": [
    "timeline = api.user_timeline(\"ABel14_88\")\n",
    "#print(str(timeline))"
   ]
  },
  {
   "cell_type": "code",
   "execution_count": 67,
   "metadata": {
    "collapsed": false
   },
   "outputs": [],
   "source": [
    "status_json = json.dumps(status._json, indent = 4, ensure_ascii = False)\n",
    "#print(str(status_json))\n",
    "#print(str(status._json.values()))"
   ]
  },
  {
   "cell_type": "code",
   "execution_count": 1,
   "metadata": {
    "collapsed": false
   },
   "outputs": [],
   "source": [
    "def get_all_tweets(screen_name):\n",
    "    \n",
    "    #Twitter only allows access to a users most recent 3240 tweets with this method\n",
    "    \n",
    "    #authorize twitter, initialize tweepy\n",
    "    auth = tweepy.OAuthHandler(consumer_key, consumer_secret)\n",
    "    auth.set_access_token(access_token, access_token_secret)\n",
    "    api = tweepy.API(auth)\n",
    "    \n",
    "    #initialize a list to hold all the tweepy Tweets\n",
    "    alltweets = []    \n",
    "    \n",
    "    #make initial request for most recent tweets (200 is the maximum allowed count)\n",
    "    new_tweets = api.user_timeline(screen_name = screen_name, count=20, tweet_mode='extended')\n",
    "    new_tweets_json = [status._json for status in new_tweets]\n",
    "    \n",
    "    #save most recent tweets\n",
    "    alltweets.extend(new_tweets_json)\n",
    "    \n",
    "#    #save the id of the oldest tweet less one\n",
    "#    oldest = alltweets[-1].id - 1\n",
    "#    \n",
    "#    #keep grabbing tweets until there are no tweets left to grab\n",
    "#    while len(new_tweets) > 0:\n",
    "#        \n",
    "#        #all subsiquent requests use the max_id param to prevent duplicates\n",
    "#        new_tweets = api.user_timeline(screen_name = screen_name,count=200,max_id=oldest)\n",
    "#        \n",
    "#        #save most recent tweets\n",
    "#        alltweets.extend(new_tweets)\n",
    "#        \n",
    "#        #update the id of the oldest tweet less one\n",
    "#        oldest = alltweets[-1].id - 1\n",
    "#\n",
    "#        print \"...%s tweets downloaded so far\" % (len(alltweets))\n",
    "       \n",
    "    #write tweet objects to JSON\n",
    "    filename = \"tweets-test-\" + screen_name + \".json\"\n",
    "    file = open(filename, 'w') \n",
    "    print(\"Writing tweet objects to JSON please wait...\")\n",
    "    json.dump(alltweets,file,sort_keys = True,indent = 4)\n",
    "    \n",
    "    #close the file\n",
    "    print(\"Done\")\n",
    "    file.close()"
   ]
  },
  {
   "cell_type": "code",
   "execution_count": 4,
   "metadata": {
    "collapsed": false,
    "scrolled": true
   },
   "outputs": [
    {
     "name": "stdout",
     "output_type": "stream",
     "text": [
      "Writing tweet objects to JSON please wait...\n",
      "Done\n"
     ]
    }
   ],
   "source": [
    "#get_all_tweets(\"ABel14_88\")\n",
    "get_all_tweets(\"PaleoconWoman\")"
   ]
  },
  {
   "cell_type": "code",
   "execution_count": 51,
   "metadata": {
    "collapsed": false
   },
   "outputs": [],
   "source": [
    "def estimate_time_remaining(start_time, current_time, current_index, num_accounts, num_tweets):\n",
    "    # Estimate the number of seconds remaining:\n",
    "    if current_index > 0:\n",
    "        num_total_tweets = num_accounts * num_tweets\n",
    "        num_completed_tweets = current_index * num_tweets\n",
    "        ratio_complete = num_completed_tweets / num_total_tweets\n",
    "\n",
    "        time_delta = (current_time - start_time).total_seconds()\n",
    "        time_delta = round(time_delta, 3)\n",
    "\n",
    "        time_per_account = time_delta / current_index\n",
    "        num_accounts_remaining = num_accounts - current_index + 1\n",
    "        time_remaining = time_per_account * num_accounts_remaining\n",
    "        time_remaining = round(time_remaining, 3)\n",
    "        return str(time_remaining)\n",
    "    else:\n",
    "        return \"\"\n",
    "\n",
    "def write_tweets(id_list, num_tweets):\n",
    "    # Writes $count number of tweets for each user in id_list to json file.\n",
    "    \n",
    "    # Note the start time:\n",
    "    start_time = datetime.datetime.now()\n",
    "    \n",
    "    #Twitter only allows access to a users most recent 3240 tweets with this method\n",
    "    #pull this number of tweets from each user:\n",
    "    num_tweets = min(200, num_tweets)\n",
    "    \n",
    "    #authorize twitter, initialize tweepy\n",
    "    auth = tweepy.OAuthHandler(consumer_key, consumer_secret)\n",
    "    auth.set_access_token(access_token, access_token_secret)\n",
    "    api = tweepy.API(auth)\n",
    "    \n",
    "    #initialize a list to hold all the tweepy Tweets\n",
    "    alltweets = []    \n",
    "    i = 0\n",
    "    num_errors = 0\n",
    "    \n",
    "    for id in id_list:\n",
    "        i = i + 1\n",
    "#        if i % 10 == 0:\n",
    "#            clear_output()\n",
    "        \n",
    "        #user = api.get_user(id).screen_name\n",
    "        user = id\n",
    "        output = \"Fetching tweets for \" + str(user) + \"... (\"\n",
    "        output += str(i) + \" of \" + str(len(id_list)) + \")\"\n",
    "        \n",
    "        if i != 0:\n",
    "            current_time = datetime.datetime.now()\n",
    "            time_remaining = estimate_time_remaining(start_time, current_time, i - 1 - num_errors, len(id_list) - num_errors, num_tweets)\n",
    "            if time_remaining != \"\":\n",
    "                output += \"          (\" + str(time_remaining) + \"s remaining)\"\n",
    "                output += \"          \"\n",
    "        \n",
    "        print(output, end=\"\\r\")\n",
    "        \n",
    "        #make initial request for most recent tweets (200 is the maximum allowed count)\n",
    "        try:\n",
    "            new_tweets = api.user_timeline(id = id, count = num_tweets, tweet_mode='extended')\n",
    "            \n",
    "            #save only json from tweet objects\n",
    "            new_tweets_json = [status._json for status in new_tweets]\n",
    "            \n",
    "            #save most recent tweets\n",
    "            alltweets.extend(new_tweets_json)\n",
    "        except BaseException as e:\n",
    "            # Increment number of errors.\n",
    "            num_errors += 1\n",
    "            \n",
    "            # Check if account is protected.\n",
    "            check_protected(user)\n",
    "            \n",
    "            # Check rate limit.\n",
    "            if check_rate()['statuses']['/statuses/user_timeline']['remaining'] < 10:\n",
    "                reset_time = check_rate()['statuses']['/statuses/user_timeline']['reset']\n",
    "                current_time = time.time()\n",
    "                time_delta = reset_time - current_time\n",
    "                time_delta = min(0,round(time_delta, 3))\n",
    "                print(\"Rate limit exceeded. Pausing for \" + str(time_delta) + \" seconds.\", end=\"\\r\")\n",
    "                \n",
    "                while time_delta >= 60:\n",
    "                    time.sleep(60)\n",
    "                    reset_time = check_rate()['statuses']['/statuses/user_timeline']['reset']\n",
    "                    current_time = time.time()\n",
    "                    time_delta = reset_time - current_time\n",
    "                    time_delta = min(0,round(time_delta, 3))\n",
    "                    print(\"Rate limit exceeded. Pausing for \" + str(time_delta) + \" seconds.\", end=\"\\r\")\n",
    "                \n",
    "                time.sleep(time_delta)\n",
    "\n",
    "        #save the id of the oldest tweet less one\n",
    "    #    oldest = alltweets[-1].id - 1\n",
    "\n",
    "    #    #keep grabbing tweets until there are no tweets left to grab\n",
    "    #    while len(new_tweets) > 0:\n",
    "    #        \n",
    "    #        #all subsiquent requests use the max_id param to prevent duplicates\n",
    "    #        new_tweets = api.user_timeline(screen_name = screen_name,count=200,max_id=oldest)\n",
    "    #        \n",
    "    #        #save most recent tweets\n",
    "    #        alltweets.extend(new_tweets)\n",
    "    #        \n",
    "    #        #update the id of the oldest tweet less one\n",
    "    #        oldest = alltweets[-1].id - 1\n",
    "    #\n",
    "    #        print \"...%s tweets downloaded so far\" % (len(alltweets))\n",
    "    \n",
    "    time_string = datetime.datetime.now().strftime(\"%Y-%m-%d-%H_%M_%S\")\n",
    "    filename = \"data/nazi_tweets-\" + time_string + \".json\"\n",
    "    file = open(filename, 'w') \n",
    "    print(\"\\n\" + \"Writing tweet objects to JSON please wait...\")\n",
    "    json.dump(alltweets,file,sort_keys = True,indent = 4)\n",
    "    \n",
    "    end_time = datetime.datetime.now()\n",
    "    time_delta = (end_time - start_time).total_seconds()\n",
    "    time_delta = round(time_delta, 3)\n",
    "    num_tested = len(id_list) - num_errors\n",
    "    output = str(num_tweets) + \" tweets each from \" + str(num_tested)\n",
    "    output += \" users written to JSON in \" + str(time_delta) + \" seconds.\"\n",
    "    print(output)\n",
    "    \n",
    "    #close the file\n",
    "    file.close()"
   ]
  },
  {
   "cell_type": "code",
   "execution_count": 19,
   "metadata": {
    "collapsed": false
   },
   "outputs": [
    {
     "data": {
      "text/plain": [
       "986"
      ]
     },
     "execution_count": 19,
     "metadata": {},
     "output_type": "execute_result"
    }
   ],
   "source": [
    "baddies = [x[0] for x in get_unprotected_baddies_from_db()]\n",
    "len(baddies)"
   ]
  },
  {
   "cell_type": "code",
   "execution_count": 62,
   "metadata": {
    "collapsed": false,
    "scrolled": true
   },
   "outputs": [
    {
     "name": "stdout",
     "output_type": "stream",
     "text": [
      "Error in check_protected() exception clause (id:19160477): [{'code': 50, 'message': 'User not found.'}]\n",
      "Account is not protected: 107848498          (606.228s remaining)          \n",
      "Account is protected: 177824609          99) (631.358s remaining)          \n",
      "Error in check_protected() exception clause (id:267797986): [{'code': 63, 'message': 'User has been suspended.'}]\n",
      "Account is protected: 399464246          99) (594.393s remaining)          \n",
      "Error in check_protected() exception clause (id:2586238849): [{'code': 63, 'message': 'User has been suspended.'}]\n",
      "Error in check_protected() exception clause (id:2842094181): [{'code': 63, 'message': 'User has been suspended.'}]\n",
      "Account is not protected: 2852211096           (541.275s remaining)          \n",
      "Account is not protected: 709367371736227840           (407.928s remaining)          \n",
      "Account is not protected: 736804566994432001           (385.917s remaining)          \n",
      "Account is not protected: 753939280670502913           (386.388s remaining)          \n",
      "Error in check_protected() exception clause (id:763415951010168832): [{'code': 50, 'message': 'User not found.'}]\n",
      "Error in check_protected() exception clause (id:769089165623488512): [{'code': 50, 'message': 'User not found.'}]\n",
      "Error in check_protected() exception clause (id:783796249074003969): [{'code': 50, 'message': 'User not found.'}]\n",
      "Account is not protected: 812083562312675328           (267.939s remaining)          \n",
      "Error in check_protected() exception clause (id:813914393788481540):aining)           [{'code': 50, 'message': 'User not found.'}]\n",
      "Error in check_protected() exception clause (id:823560482556559360): [{'code': 50, 'message': 'User not found.'}]\n",
      "Error in check_protected() exception clause (id:843136539903344641): [{'code': 50, 'message': 'User not found.'}]\n",
      "Account is not protected: 848062551657037824           (197.333s remaining)          \n",
      "Error in check_protected() exception clause (id:854153694643982336): [{'code': 63, 'message': 'User has been suspended.'}]\n",
      "Account is protected: 856333174476947456          899) (180.97s remaining)           \n",
      "Error in check_protected() exception clause (id:859443622873137152): [{'code': 63, 'message': 'User has been suspended.'}]\n",
      "Error in check_protected() exception clause (id:863155328061497344): [{'code': 63, 'message': 'User has been suspended.'}]\n",
      "Error in check_protected() exception clause (id:863390471543902209): [{'code': 50, 'message': 'User not found.'}]\n",
      "Error in check_protected() exception clause (id:863588073271050240): [{'code': 63, 'message': 'User has been suspended.'}]\n",
      "Error in check_protected() exception clause (id:866197252183916545): [{'code': 63, 'message': 'User has been suspended.'}]\n",
      "Account is not protected: 867652390614437889           (153.228s remaining)          \n",
      "Account is protected: 874113401273942016          899) (138.282s remaining)          \n",
      "Account is protected: 884941385576714244          899) (109.2s remaining)            \n",
      "Error in check_protected() exception clause (id:884966039120994304): [{'code': 63, 'message': 'User has been suspended.'}]\n",
      "Account is not protected: 897500703869911042           (51.972s remaining)           \n",
      "Error in check_protected() exception clause (id:897958369755004928): [{'code': 50, 'message': 'User not found.'}]\n",
      "Error in check_protected() exception clause (id:899355192952532992): [{'code': 63, 'message': 'User has been suspended.'}]\n",
      "Error in check_protected() exception clause (id:902858513801768961): [{'code': 63, 'message': 'User has been suspended.'}]\n",
      "Fetching tweets for 907712735089225729... (899 of 899) (2.305s remaining)           \n",
      "Writing tweet objects to JSON please wait...\n",
      "200 tweets each from 865 users written to JSON in 1112.3 seconds.\n"
     ]
    }
   ],
   "source": [
    "write_tweets(baddies[0:899], 200)"
   ]
  },
  {
   "cell_type": "code",
   "execution_count": null,
   "metadata": {
    "collapsed": false,
    "scrolled": true
   },
   "outputs": [],
   "source": [
    "for user in baddies_array:\n",
    "    print(str(api.get_user(user).followers_count))"
   ]
  },
  {
   "cell_type": "code",
   "execution_count": null,
   "metadata": {
    "collapsed": false
   },
   "outputs": [],
   "source": [
    "for x in range(28,40):\n",
    "    print(\"Testing Twitter id \" + str(baddies_array[x]) + \":\")\n",
    "    results = test_followers(baddies_array[x], num_results = -1)\n",
    "    print(\"\\n\")\n",
    "    \n",
    "    if check_rate_lookup() < 100 or check_rate_followers_ids() == 0:\n",
    "        break"
   ]
  },
  {
   "cell_type": "code",
   "execution_count": 366,
   "metadata": {
    "collapsed": false
   },
   "outputs": [
    {
     "name": "stdout",
     "output_type": "stream",
     "text": [
      "['0', '1', '2', '3', '4', '5+']\n",
      "[1609, 262, 85, 21, 9, 0]\n",
      "19.0% identified as Nazis (377 of 1986 tested)\n",
      "1986 users tested in 0.244 seconds.\n",
      "377 baddies updated/added to db in 0.011 seconds.\n",
      "Scanned 1986 followers in 34.091 seconds.\n"
     ]
    }
   ],
   "source": [
    "results = test_followers(\"razorheart88\", num_results = -1)"
   ]
  },
  {
   "cell_type": "code",
   "execution_count": 61,
   "metadata": {
    "collapsed": false
   },
   "outputs": [],
   "source": [
    "def update_protected_baddies():\n",
    "    # Update protected flag in the database if absent.\n",
    "    db = sqlite3.connect('data/baddies.db')\n",
    "\n",
    "    # Get a cursor object\n",
    "    cursor = db.cursor()\n",
    "\n",
    "    cursor.execute('''\n",
    "        SELECT twitter_id FROM baddies WHERE protected IS null\n",
    "    ''')\n",
    "    results = cursor.fetchall()\n",
    "    results = [x[0] for x in results]\n",
    "    \n",
    "    for baddie in results:\n",
    "        if check_protected(baddie):\n",
    "            protected = 1\n",
    "        else:\n",
    "            protected = 0\n",
    "\n",
    "        # Update protected flag in db:\n",
    "        cursor.execute('''\n",
    "            UPDATE baddies SET protected = ? WHERE twitter_id = ?\n",
    "            ''', (protected, baddie))\n",
    "        db.commit()\n",
    "        \n",
    "    db.close()"
   ]
  },
  {
   "cell_type": "code",
   "execution_count": null,
   "metadata": {
    "collapsed": false,
    "scrolled": true
   },
   "outputs": [],
   "source": [
    "status = api.get_status(731639309602832384)\n",
    "print(json.dumps(status._json, indent = 4, ensure_ascii = False))"
   ]
  },
  {
   "cell_type": "code",
   "execution_count": 61,
   "metadata": {
    "collapsed": false
   },
   "outputs": [
    {
     "name": "stdout",
     "output_type": "stream",
     "text": [
      "900\n",
      "900\n",
      "900\n"
     ]
    }
   ],
   "source": [
    "check_api_rates()"
   ]
  }
 ],
 "metadata": {
  "kernelspec": {
   "display_name": "Python 3",
   "language": "python",
   "name": "python3"
  },
  "language_info": {
   "codemirror_mode": {
    "name": "ipython",
    "version": 3
   },
   "file_extension": ".py",
   "mimetype": "text/x-python",
   "name": "python",
   "nbconvert_exporter": "python",
   "pygments_lexer": "ipython3",
   "version": "3.6.0"
  }
 },
 "nbformat": 4,
 "nbformat_minor": 2
}
